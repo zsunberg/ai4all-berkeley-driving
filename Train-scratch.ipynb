{
 "cells": [
  {
   "cell_type": "code",
   "execution_count": 1,
   "metadata": {},
   "outputs": [],
   "source": [
    "import numpy as np\n",
    "from driving.env import *\n",
    "from matplotlib import pyplot as plt\n",
    "import random\n",
    "from ipywidgets import interactive"
   ]
  },
  {
   "cell_type": "code",
   "execution_count": 2,
   "metadata": {},
   "outputs": [],
   "source": [
    "oval = make_oval()\n",
    "env = DrivingEnv(dt=0.5)\n",
    "\n",
    "def policy(s):\n",
    "    d, a = oval.distance_angle_deg(s[0], s[1], s[2])\n",
    "    if random.random() < 0.8:\n",
    "       return 30.0*(random.random()-0.5)\n",
    "    return -100*d - 2*a + 10.0*np.random.normal()\n",
    "    # return 0.0\n",
    "    "
   ]
  },
  {
   "cell_type": "markdown",
   "metadata": {},
   "source": [
    "## Run this in stable baselines"
   ]
  },
  {
   "cell_type": "code",
   "execution_count": 11,
   "metadata": {},
   "outputs": [
    {
     "data": {
      "image/png": "[encoded data removed]",
      "text/plain": [
       "<Figure size 432x288 with 1 Axes>"
      ]
     },
     "metadata": {
      "needs_background": "light"
     },
     "output_type": "display_data"
    }
   ],
   "source": [
    "from stable_baselines.common.vec_env import DummyVecEnv, SubprocVecEnv\n",
    "from stable_baselines import DQN\n",
    "\n",
    "def env_constructor():\n",
    "    return DrivingEnv(dt=0.5)\n",
    "\n",
    "env = DummyVecEnv([lambda: env_constructor()])  # The algorithms require a vectorized environment to run\n",
    "\n",
    "model = DQN('MlpPolicy', env, verbose=1)\n",
    "model.learn(total_timesteps=10000)\n",
    "\n",
    "def q_func_policy(s):\n",
    "    return model.predict(s)[0]\n",
    "\n",
    "def plot_value_function(q_func):\n",
    "    x = np.linspace(-1.0, 4.0, 50)\n",
    "    y = np.linspace(-1.0, 3.0, 50)\n",
    "    X, Y = np.meshgrid(x, y)\n",
    "    Z = np.empty(X.shape)\n",
    "    history = sim(q_func_policy)\n",
    "#     for i in range(Z.shape[0]):\n",
    "#         for j in range(Z.shape[1]):\n",
    "#             x = X[i,j]\n",
    "#             y = Y[i,j]\n",
    "#             # d, a = oval.distance_angle(x, y, 0.0)\n",
    "#             act_vals = model([x, y, 90.0])\n",
    "#             if i==0 and j==0:\n",
    "#                 print(act_vals)\n",
    "#             r_estim = act_vals[0][actions.index(0.0)]\n",
    "#             # Uncomment these lines to plot the comparison with the true reward\n",
    "# #             r_true = env.reward(np.array((x,y,90.0)), 0.0) / reward_norm_val\n",
    "\n",
    "# #             Z[i,j] = np.abs(r_estim - r_true)\n",
    "#             Z[i, j] = r_estim\n",
    "    #plt.contourf(X,Y,Z)\n",
    "    xs = [step[0][0] for step in history]\n",
    "    ys = [step[0][1] for step in history]\n",
    "    plt.plot(xs, ys, color='red')\n",
    "    plt.xlim([-1.0, 4.0])\n",
    "    plt.ylim([-1.0, 3.0])\n",
    "    #plt.colorbar()\n",
    "    plt.show()\n",
    "\n",
    "plot_value_function(model)"
   ]
  },
  {
   "cell_type": "code",
   "execution_count": 7,
   "metadata": {},
   "outputs": [],
   "source": [
    "def sim(policy, n_steps=1000):\n",
    "    env = DrivingEnv()\n",
    "    s = env.reset()\n",
    "    history = []\n",
    "    for i in range(n_steps):\n",
    "        a = policy(s)\n",
    "        sp, r, done, info = env.step(a)\n",
    "        history.append((s, a, r, sp))\n",
    "        s = sp\n",
    "    return history\n",
    "\n",
    "def showmodel(model, theta=0.0, a=0.0):\n",
    "    N = 20\n",
    "\n",
    "    x = np.linspace(-1.0, 4.0, N)\n",
    "    y = np.linspace(-1.0, 3.0, N)\n",
    "    X, Y = np.meshgrid(x, y)\n",
    "    Z = np.empty(X.shape)\n",
    "    sa = np.empty((Z.size, 4))\n",
    "    for i in range(Z.shape[0]):\n",
    "        for j in range(Z.shape[1]):\n",
    "            x = X[i,j]\n",
    "            y = Y[i,j]\n",
    "            sa[i*Z.shape[1]+j, :] = np.array((x, y, theta, a))\n",
    "\n",
    "    qs = np.clip(model.predict(sa), -100.0, 0.0)\n",
    "    for i in range(Z.shape[0]):\n",
    "        for j in range(Z.shape[1]):\n",
    "            Z[i,j] = qs[i*Z.shape[1]+j].item()\n",
    "\n",
    "    plt.contourf(X,Y,Z)\n",
    "    plt.colorbar()"
   ]
  },
  {
   "cell_type": "code",
   "execution_count": null,
   "metadata": {},
   "outputs": [],
   "source": [
    "history = sim(policy)"
   ]
  },
  {
   "cell_type": "code",
   "execution_count": null,
   "metadata": {},
   "outputs": [],
   "source": [
    "N = 100\n",
    "x = np.linspace(-1.0, 4.0, N)\n",
    "y = np.linspace(-1.0, 3.0, N)\n",
    "X, Y = np.meshgrid(x, y)\n",
    "Z = np.empty(X.shape)\n",
    "for i in range(Z.shape[0]):\n",
    "    for j in range(Z.shape[1]):\n",
    "        x = X[i,j]\n",
    "        y = Y[i,j]\n",
    "        # d, a = oval.distance_angle(x, y, 0.0)\n",
    "        r = env.reward(np.array((x,y,90.0)), 0.0)\n",
    "        Z[i,j] = r\n",
    "plt.contourf(X,Y,Z)\n",
    "xs = [step[0][0] for step in history]\n",
    "ys = [step[0][1] for step in history]\n",
    "#plt.plot(xs, ys, color='red')\n",
    "plt.colorbar()"
   ]
  },
  {
   "cell_type": "code",
   "execution_count": 1,
   "metadata": {},
   "outputs": [
    {
     "name": "stderr",
     "output_type": "stream",
     "text": [
      "WARNING: Logging before flag parsing goes to stderr.\n",
      "W0812 20:52:05.775590 4614923712 deprecation.py:323] From <ipython-input-1-eb4f2cd101ca>:33: dense (from tensorflow.python.layers.core) is deprecated and will be removed in a future version.\n",
      "Instructions for updating:\n",
      "Use keras.layers.dense instead.\n",
      "W0812 20:52:05.777528 4614923712 deprecation.py:506] From /Users/eugenevinitsky/anaconda3/lib/python3.7/site-packages/tensorflow/python/ops/init_ops.py:1251: calling VarianceScaling.__init__ (from tensorflow.python.ops.init_ops) with dtype is deprecated and will be removed in a future version.\n",
      "Instructions for updating:\n",
      "Call initializer instance with the dtype argument instead of passing it to the constructor\n"
     ]
    }
   ],
   "source": [
    "import tensorflow as tf\n",
    "deg_factor = 1/180\n",
    "actions = (-30.0, -5.0, 0.0, 5.0, 30.0)\n",
    "discount = 0.95\n",
    "learning_rate = 0.0001\n",
    "\n",
    "# Placeholders that we will pass the buffer elements into\n",
    "state_placeholder =  tf.placeholder(dtype=tf.float32, shape=[None, 3], name=\"state_ph\")\n",
    "next_state_placeholder =  tf.placeholder(dtype=tf.float32, shape=[None, 3], name=\"next_state_ph\")\n",
    "act_placeholder = tf.placeholder(dtype=tf.int32, shape=[None], name=\"act_ph\")\n",
    "reward_placeholder = tf.placeholder(dtype=tf.float32, shape=[None], name=\"rew_ph\")\n",
    "done_placeholder = tf.placeholder(dtype=tf.float32, shape=[None], name=\"done_ph\")\n",
    "\n",
    "\n",
    "# convenience method to handle tensorflow sessions\n",
    "def get_session():\n",
    "    #tf.reset_default_graph()\n",
    "    session = tf.Session()\n",
    "    return session\n",
    "\n",
    "# Convenience function to build a q network\n",
    "def build_q_func(inputs, output_dim, name_scope, hiddens=[64, 64], reuse=False):\n",
    "    with tf.variable_scope(name_scope, reuse=reuse):\n",
    "            i = 1\n",
    "            last_layer = inputs\n",
    "            for size in hiddens:\n",
    "                label = \"fc{}\".format(i)\n",
    "                last_layer = tf.layers.dense(\n",
    "                    last_layer,\n",
    "                    size,\n",
    "                    activation='relu',\n",
    "                    #kernel_initializer=tf.random_normal_initializer(stddev=0.1),\n",
    "                    name=label)\n",
    "                i += 1\n",
    "            output = tf.layers.dense(\n",
    "                last_layer,\n",
    "                output_dim,\n",
    "                activation=None,\n",
    "                #kernel_initializer=tf.random_normal_initializer(stddev=0.01),\n",
    "                name=\"fc_out\")\n",
    "            return output\n",
    "\n",
    "sess = get_session()\n",
    "# This is the Q function that we will optimize\n",
    "q = build_q_func(state_placeholder, len(actions), \"action_q\", reuse=False)\n",
    "# This is the target function that is used for evaluating the value of the chosen action\n",
    "q_target = build_q_func(next_state_placeholder, len(actions), \"target_q\", reuse=False)\n",
    "# This function is used to actually select the next action. I've implemented double Q learning here\n",
    "# in the hopes that this makes the students code train faster\n",
    "#q_copy = build_q_func(state_placeholder, len(actions), \"action_q\", reuse=True)\n",
    "# We pull out the variables so that we can restrict the training to just the q func vars\n",
    "q_func_vars = tf.get_collection(tf.GraphKeys.GLOBAL_VARIABLES, scope=\"action_q\")\n",
    "# We pull out the target variables so that we can occasionally copy over the q function variables\n",
    "# onto the target variables.\n",
    "target_q_func_vars = tf.get_collection(tf.GraphKeys.GLOBAL_VARIABLES, scope=\"target_q\")\n",
    "\n",
    "# find the target reward\n",
    "# Here the expression we are computing is \n",
    "# r(s,a) + Q_target(s', argmax_a Q(s', a)) which is the double q learning expression\n",
    "# hot = tf.one_hot(tf.argmax(q_copy, axis=1), len(actions))\n",
    "# one-hot-encode the actions that were taken so you can select out the correct target action\n",
    "hot = tf.one_hot(tf.argmax(q_target, axis=1), len(actions))\n",
    "y = reward_placeholder #+ (1 - done_placeholder) * discount * (tf.reduce_sum(tf.multiply(q_target, hot),axis=1))\n",
    "\n",
    "acts_taken_hot = tf.one_hot(act_placeholder, depth=len(actions))\n",
    "q_taken = tf.multiply(q, acts_taken_hot)\n",
    "q_reduce = tf.reduce_sum(q_taken, axis = 1)\n",
    "total_error = tf.reduce_mean(tf.squared_difference(q_reduce, y))\n",
    "\n",
    "optimizer = tf.train.AdamOptimizer(learning_rate=learning_rate)\n",
    "# here note that we only pass the q_func_vars, which prevents the optimizer for changing the weights of the\n",
    "# target q network\n",
    "gvs = optimizer.compute_gradients(total_error, var_list=q_func_vars)\n",
    "capped_gvs = [(tf.clip_by_value(grad, -1., 1.), var) for grad, var in gvs]\n",
    "train_fn = optimizer.apply_gradients(capped_gvs)\n",
    "\n",
    "# update_target_fn will be called periodically to copy Q network to target Q network\n",
    "update_target_fn = []\n",
    "for var, var_target in zip(sorted(q_func_vars,        key=lambda v: v.name),\n",
    "                           sorted(target_q_func_vars, key=lambda v: v.name)):\n",
    "    update_target_fn.append(var_target.assign(var))\n",
    "update_target_fn = tf.group(*update_target_fn)\n",
    "\n"
   ]
  },
  {
   "cell_type": "code",
   "execution_count": null,
   "metadata": {},
   "outputs": [],
   "source": []
  },
  {
   "cell_type": "code",
   "execution_count": 7,
   "metadata": {},
   "outputs": [
    {
     "name": "stdout",
     "output_type": "stream",
     "text": [
      "value of error is 226.64645385742188\n",
      "The reward of this round was -384.98636902613606\n",
      "[[ 0.04088214 -0.0021503   0.00252467 -0.00210031 -0.03681295]]\n"
     ]
    },
    {
     "data": {
      "image/png": "[encoded data removed]",
      "text/plain": [
       "<Figure size 432x288 with 2 Axes>"
      ]
     },
     "metadata": {
      "needs_background": "light"
     },
     "output_type": "display_data"
    },
    {
     "name": "stdout",
     "output_type": "stream",
     "text": [
      "value of error is 0.07905273139476776\n",
      "The reward of this round was -505.33497300119444\n",
      "value of error is 0.014688041992485523\n",
      "The reward of this round was -57.142598821000156\n",
      "value of error is 0.011250559240579605\n",
      "The reward of this round was -37.98793371187577\n",
      "value of error is 0.041328251361846924\n",
      "The reward of this round was -40.44329147631252\n",
      "value of error is 0.00689599197357893\n",
      "The reward of this round was -34.39676904216514\n",
      "[[ 0.05313291 -0.01020477 -0.00744716 -0.00848328 -0.05535541]]\n"
     ]
    },
    {
     "data": {
      "image/png": "[encoded data removed]",
      "text/plain": [
       "<Figure size 432x288 with 2 Axes>"
      ]
     },
     "metadata": {
      "needs_background": "light"
     },
     "output_type": "display_data"
    },
    {
     "name": "stdout",
     "output_type": "stream",
     "text": [
      "value of error is 0.016027886420488358\n",
      "The reward of this round was -21.198073905765398\n",
      "value of error is 0.018907032907009125\n",
      "The reward of this round was -174.65904061737052\n",
      "value of error is 0.006968953181058168\n",
      "The reward of this round was -21.69416651904254\n",
      "value of error is 0.00695129856467247\n",
      "The reward of this round was -51.935971211589695\n",
      "value of error is 0.011795388534665108\n",
      "The reward of this round was -26.9150390545941\n",
      "[[ 0.04775273 -0.01470609 -0.00912682 -0.01308765 -0.06544225]]\n"
     ]
    },
    {
     "data": {
      "image/png": "[encoded data removed]",
      "text/plain": [
       "<Figure size 432x288 with 2 Axes>"
      ]
     },
     "metadata": {
      "needs_background": "light"
     },
     "output_type": "display_data"
    },
    {
     "name": "stdout",
     "output_type": "stream",
     "text": [
      "value of error is 0.01110588014125824\n",
      "The reward of this round was -22.748176042141857\n",
      "value of error is 0.005535523407161236\n",
      "The reward of this round was -23.22103690248503\n",
      "value of error is 0.0034920291509479284\n",
      "The reward of this round was -62.918782642396614\n",
      "value of error is 0.01179027184844017\n",
      "The reward of this round was -32.480711005801815\n",
      "value of error is 0.003947233781218529\n",
      "The reward of this round was -20.81729718918962\n",
      "[[ 0.04018182 -0.01703122 -0.01086138 -0.0157941  -0.07305011]]\n"
     ]
    },
    {
     "data": {
      "image/png": "[encoded data removed]",
      "text/plain": [
       "<Figure size 432x288 with 2 Axes>"
      ]
     },
     "metadata": {
      "needs_background": "light"
     },
     "output_type": "display_data"
    },
    {
     "name": "stdout",
     "output_type": "stream",
     "text": [
      "value of error is 0.008631735108792782\n"
     ]
    },
    {
     "ename": "KeyboardInterrupt",
     "evalue": "",
     "output_type": "error",
     "traceback": [
      "\u001b[0;31m---------------------------------------------------------------------------\u001b[0m",
      "\u001b[0;31mKeyboardInterrupt\u001b[0m                         Traceback (most recent call last)",
      "\u001b[0;32m<ipython-input-7-a598134fb59d>\u001b[0m in \u001b[0;36m<module>\u001b[0;34m\u001b[0m\n\u001b[1;32m    115\u001b[0m                 \u001b[0mreward_placeholder\u001b[0m\u001b[0;34m:\u001b[0m \u001b[0mnp\u001b[0m\u001b[0;34m.\u001b[0m\u001b[0marray\u001b[0m\u001b[0;34m(\u001b[0m\u001b[0mr_buffer\u001b[0m\u001b[0;34m)\u001b[0m\u001b[0;34m[\u001b[0m\u001b[0mindices\u001b[0m\u001b[0;34m]\u001b[0m\u001b[0;34m,\u001b[0m\u001b[0;34m\u001b[0m\u001b[0;34m\u001b[0m\u001b[0m\n\u001b[1;32m    116\u001b[0m                 \u001b[0mnext_state_placeholder\u001b[0m\u001b[0;34m:\u001b[0m \u001b[0msp_buffer\u001b[0m\u001b[0;34m[\u001b[0m\u001b[0mindices\u001b[0m\u001b[0;34m]\u001b[0m\u001b[0;34m,\u001b[0m\u001b[0;34m\u001b[0m\u001b[0;34m\u001b[0m\u001b[0m\n\u001b[0;32m--> 117\u001b[0;31m                 \u001b[0mdone_placeholder\u001b[0m\u001b[0;34m:\u001b[0m \u001b[0mnp\u001b[0m\u001b[0;34m.\u001b[0m\u001b[0marray\u001b[0m\u001b[0;34m(\u001b[0m\u001b[0mdone_buffer\u001b[0m\u001b[0;34m)\u001b[0m\u001b[0;34m[\u001b[0m\u001b[0mindices\u001b[0m\u001b[0;34m]\u001b[0m\u001b[0;34m\u001b[0m\u001b[0;34m\u001b[0m\u001b[0m\n\u001b[0m\u001b[1;32m    118\u001b[0m             }\n\u001b[1;32m    119\u001b[0m         \u001b[0merror\u001b[0m \u001b[0;34m=\u001b[0m \u001b[0msess\u001b[0m\u001b[0;34m.\u001b[0m\u001b[0mrun\u001b[0m\u001b[0;34m(\u001b[0m\u001b[0mtotal_error\u001b[0m\u001b[0;34m,\u001b[0m \u001b[0mfeed_dict\u001b[0m\u001b[0;34m)\u001b[0m\u001b[0;34m\u001b[0m\u001b[0;34m\u001b[0m\u001b[0m\n",
      "\u001b[0;31mKeyboardInterrupt\u001b[0m: "
     ]
    }
   ],
   "source": [
    "import numpy as np\n",
    "\n",
    "reward_norm_val = 100\n",
    "obs_norm = 100.0\n",
    "dist_norm_done = 10.0\n",
    "\n",
    "def random_policy(s):\n",
    "    return actions[np.random.randint(len(actions))]\n",
    "\n",
    "def q_func_policy(s):\n",
    "    q_input = np.expand_dims(s, 0)\n",
    "    q_vals = sess.run(q, feed_dict={state_placeholder: q_input})\n",
    "    # TODO(@evinitsky) turn the exploration schedule on\n",
    "    act = np.argmax(q_vals)\n",
    "    return actions[act]\n",
    "        \n",
    "def plot_value_function(q_func):\n",
    "    x = np.linspace(-1.0, 4.0, 50)\n",
    "    y = np.linspace(-1.0, 3.0, 50)\n",
    "    X, Y = np.meshgrid(x, y)\n",
    "    Z = np.empty(X.shape)\n",
    "    history = sim(q_func_policy)\n",
    "    for i in range(Z.shape[0]):\n",
    "        for j in range(Z.shape[1]):\n",
    "            x = X[i,j]\n",
    "            y = Y[i,j]\n",
    "            # d, a = oval.distance_angle(x, y, 0.0)\n",
    "            act_vals = sess.run(q, feed_dict={state_placeholder: np.array([[x, y, 90.0]]) / obs_norm})\n",
    "            if i==0 and j==0:\n",
    "                print(act_vals)\n",
    "            r_estim = act_vals[0][actions.index(0.0)]\n",
    "            # Uncomment these lines to plot the comparison with the true reward\n",
    "#             r_true = env.reward(np.array((x,y,90.0)), 0.0) / reward_norm_val\n",
    "\n",
    "#             Z[i,j] = np.abs(r_estim - r_true)\n",
    "            Z[i, j] = r_estim\n",
    "    plt.contourf(X,Y,Z)\n",
    "    xs = [step[0][0] for step in history]\n",
    "    ys = [step[0][1] for step in history]\n",
    "    plt.plot(xs, ys, color='red')\n",
    "    plt.xlim([-1.0, 4.0])\n",
    "    plt.ylim([-1.0, 3.0])\n",
    "    plt.colorbar()\n",
    "    plt.show()\n",
    "    \n",
    "num_rollouts = 1000\n",
    "# Here we pre-fill the buffer so we have something good to train with\n",
    "s_buffer = np.zeros(shape=(0,3))\n",
    "r_buffer = []\n",
    "sp_buffer = np.zeros(shape=(0,3))\n",
    "act_buffer = []\n",
    "done_buffer = []\n",
    "for i in range(num_rollouts):\n",
    "    history = sim(random_policy, n_steps=20)\n",
    "    for step in history:\n",
    "#           sa = np.concatenate((step[0], (step[1],)))\n",
    "#             sa_buffer = np.vstack((sa_buffer, sa*(1.0, 1.0, deg_factor, deg_factor)))\n",
    "#             r_buffer.append(step[2])\n",
    "#             sp_buffer.append(step[3])\n",
    "          s_buffer = np.vstack((s_buffer, step[0]))\n",
    "          sp_buffer = np.vstack((sp_buffer, step[3]))\n",
    "          r_buffer.append(step[2] / reward_norm_val)\n",
    "          # Here we store the index because the q function outputs indexes, not actions\n",
    "          act_buffer.append(actions.index(step[1]))\n",
    "          if np.linalg.norm(step[3][0:2]) > dist_norm_done:\n",
    "              done_buffer.append(1)\n",
    "          else:\n",
    "              done_buffer.append(0)\n",
    "          \n",
    "\n",
    "init = tf.global_variables_initializer()\n",
    "sess.run(init)\n",
    "batch_size = 32\n",
    "update_freq = 1000\n",
    "num_iters = 100\n",
    "update_index = 0\n",
    "exploration_start = 0.95\n",
    "exploration_rate = exploration_start\n",
    "for i in range(num_iters):\n",
    "    obs = env.reset()\n",
    "    print_rew = 0\n",
    "    state_buffer = []\n",
    "    k = 0\n",
    "    done=False\n",
    "    while k < 1000 and done==False:\n",
    "        state_buffer.append(obs)\n",
    "        # compute the action\n",
    "        q_input = np.expand_dims(obs, 0)\n",
    "        q_vals = sess.run(q, feed_dict={state_placeholder: q_input})\n",
    "        # with probability prob we take a random action, with probability 1 - prob we take a greedy action\n",
    "        prob = np.random.uniform(1)\n",
    "        if prob < exploration_rate:\n",
    "            act = np.random.randint(len(actions))\n",
    "        else:\n",
    "            act = np.argmax(q_vals)\n",
    "        exploration_rate = exploration_start - (update_index / 1e6)\n",
    "        exploration_rate = max(0.02, exploration_rate)\n",
    "        next_state, reward, done, _ = env.step(actions[act])\n",
    "        if np.linalg.norm(next_state[0:2]) > dist_norm_done:\n",
    "            done = True\n",
    "        print_rew += reward / reward_norm_val\n",
    "#         s_buffer = np.vstack((s_buffer, obs / obs_norm))\n",
    "#         sp_buffer = np.vstack((sp_buffer, next_state / obs_norm))\n",
    "#         r_buffer.append(reward / reward_norm_val)\n",
    "#         act_buffer.append(act)\n",
    "#         done_buffer.append(done)\n",
    "        obs = next_state\n",
    "        \n",
    "        # now we do a training step on some random set of states from the buffer\n",
    "        indices = np.random.randint(low=0, high=len(r_buffer), size=batch_size)\n",
    "        # construct the placeholder to batch mapping\n",
    "        feed_dict = {\n",
    "                state_placeholder: s_buffer[indices],\n",
    "                act_placeholder: np.array(act_buffer)[indices],\n",
    "                reward_placeholder: np.array(r_buffer)[indices],\n",
    "                next_state_placeholder: sp_buffer[indices],\n",
    "                done_placeholder: np.array(done_buffer)[indices]\n",
    "            }\n",
    "        error = sess.run(total_error, feed_dict)\n",
    "        q_func = sess.run(q, feed_dict)\n",
    "        #print('q values are {}'.format(q_func))\n",
    "        if k == 0:\n",
    "            print('value of error is {}'.format(error))\n",
    "        #print('the rewards were {}'.format(np.array(r_buffer)[indices]))\n",
    "        sess.run(train_fn, feed_dict)\n",
    "        # Now if enough time-steps have passed we copy the q function over into the target\n",
    "        if update_index > update_freq and update_index % update_freq == 0:\n",
    "            sess.run(update_target_fn)\n",
    "        update_index += 1\n",
    "        k += 1\n",
    "    #plot_value_function(q)\n",
    "    print('The reward of this round was {}'.format(print_rew))\n",
    "    if i % 5 == 0:\n",
    "        plot_value_function(q_func)\n",
    "        \n",
    "#     # preallocate array for values\n",
    "#     qspa = np.empty(shape=)\n",
    "#     # preallocate spa\n",
    "#     for a in actions:\n",
    "#         for i in range(len(sp_buffer))\n",
    "#             spa[i,:] = np.stack((sp_buffer, ), axis=1)\n",
    "#         # fill column (or row?) in model\n",
    "#     # take maximum          \n",
    "    \n",
    "#     r_array = np.reshape(np.array(r_buffer), (len(r_buffer),1))\n",
    "#     target = r_array + discount*maxq\n",
    "#     model.fit(sa_buffer, target, epochs=5, batch_size=32, shuffle=True)"
   ]
  },
  {
   "cell_type": "code",
   "execution_count": null,
   "metadata": {
    "scrolled": true
   },
   "outputs": [],
   "source": [
    "model.predict(np.array([[1.0, 0.5, 0.0, -15.0*deg_factor]]))"
   ]
  },
  {
   "cell_type": "code",
   "execution_count": null,
   "metadata": {
    "scrolled": true
   },
   "outputs": [],
   "source": [
    "interactive(lambda theta, a: showmodel(model, theta*deg_factor, a*deg_factor), theta=(0,360), a=(-30.0, 30.0))"
   ]
  },
  {
   "cell_type": "code",
   "execution_count": null,
   "metadata": {},
   "outputs": [],
   "source": [
    "N = 100\n",
    "x = np.linspace(-1.0, 4.0, N)\n",
    "y = np.linspace(-1.0, 3.0, N)\n",
    "X, Y = np.meshgrid(x, y)\n",
    "Z = np.empty(X.shape)\n",
    "for i in range(Z.shape[0]):\n",
    "    for j in range(Z.shape[1]):\n",
    "        x = X[i,j]\n",
    "        y = Y[i,j]\n",
    "        # d, a = oval.distance_angle(x, y, 0.0)\n",
    "        r = env.reward(np.array((x,y,90.0)), 0.0)\n",
    "        Z[i,j] = r\n",
    "plt.contourf(X,Y,Z)\n",
    "xs = [step[0][0] for step in history]\n",
    "ys = [step[0][1] for step in history]\n",
    "plt.plot(xs, ys, color='red')\n",
    "plt.colorbar()"
   ]
  },
  {
   "cell_type": "code",
   "execution_count": null,
   "metadata": {},
   "outputs": [],
   "source": []
  }
 ],
 "metadata": {
  "@webio": {
   "lastCommId": null,
   "lastKernelId": null
  },
  "kernelspec": {
   "display_name": "Python 3",
   "language": "python",
   "name": "python3"
  }
 },
 "nbformat": 4,
 "nbformat_minor": 2
}
