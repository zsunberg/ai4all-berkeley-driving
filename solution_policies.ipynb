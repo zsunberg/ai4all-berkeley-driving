{
 "cells": [
  {
   "cell_type": "code",
   "execution_count": null,
   "metadata": {},
   "outputs": [],
   "source": [
    "<a href=\"https://colab.research.google.com/github/zsunberg/ai4all-berkeley-driving/blob/master/solution_policies.ipynb\" target=\"_parent\"><img src=\"https://colab.research.google.com/assets/colab-badge.svg\" alt=\"Open In Colab\"/></a>"
   ]
  },
  {
   "cell_type": "markdown",
   "metadata": {},
   "source": [
    "# 1-4 Systematic Ways of Determining Policies\n",
    "\n",
    "In this section, we introduce different methods and ideas that help us find a good policy.\n",
    "\n",
    "Remember: a **policy** is a function where you input the *state* (location of the car on the road), and it gives you the next *action* to take (how much to turn in the next time step).\n",
    "\n",
    "Let's set a few things up first: download the code, import the functions we need, and create the environment (the road and car)."
   ]
  },
  {
   "cell_type": "code",
   "execution_count": 1,
   "metadata": {},
   "outputs": [],
   "source": [
    "## Google Colab Code to get everything set up\n",
    "#! git clone https://github.com/zsunberg/ai4all-berkeley-driving\n",
    "#%cd ai4all-berkeley-driving/\n",
    "\n",
    "# Import the API for the Students\n",
    "from driving.ui import *\n",
    "\n",
    "# Create the environment\n",
    "env = env_constructor()"
   ]
  },
  {
   "cell_type": "markdown",
   "metadata": {},
   "source": [
    "## Short-Sighted Reward Function\n",
    "\n",
    "First, we'll experiment with a greedy, short-sighted reward that only looks **one time step** into the future. It examines all actions we can take from our current position for the next step, and then simply takes the best one.\n",
    "\n",
    "Below, fill in \"greedy_policy\" - it takes in the state of the car, and outputs the action that would maximize the reward in just the next time step.\n",
    "\n",
    "You'll need to access the **reward function**, like this: `env.reward(x, y, theta, action)` where `action` is the turning angle that you're checking to see how good it is.\n",
    "\n",
    "You can access the list of possible turning angles by doing `env.actions`. Run the cell below to see what they are."
   ]
  },
  {
   "cell_type": "code",
   "execution_count": null,
   "metadata": {},
   "outputs": [],
   "source": [
    "env.actions # Returns a list of turning angles"
   ]
  },
  {
   "cell_type": "code",
   "execution_count": 2,
   "metadata": {},
   "outputs": [],
   "source": [
    "# Student Code Here:\n",
    "\n",
    "# Implement the policy that maximizes the reward at the current position and angle of the car\n",
    "def greedy_policy(x,y,theta):\n",
    "    actions = env.actions\n",
    "    best_action = None\n",
    "    best_reward = None\n",
    "    for a in actions:\n",
    "        reward = env.reward(x, y, theta, a)\n",
    "        if best_reward is None or reward > best_reward:\n",
    "            best_action = a\n",
    "            best_reward = reward\n",
    "    return best_action\n",
    "    "
   ]
  },
  {
   "cell_type": "markdown",
   "metadata": {},
   "source": [
    "Now that you've made the single-step reward policy, let's see how it performs.\n",
    "\n",
    "Run the cell below to see an animation using your policy. The car starts somewhere near the road, and chooses its next action based on the greedy policy."
   ]
  },
  {
   "cell_type": "code",
   "execution_count": null,
   "metadata": {},
   "outputs": [],
   "source": [
    "animate(env, greedy_policy)"
   ]
  },
  {
   "cell_type": "markdown",
   "metadata": {},
   "source": [
    "The cell below also runs your policy each time step, but lets you see the path that the car took in a static plot. The car starts at a different spot each time, so it won't match up with the above animation.\n",
    "\n",
    "Note: an \"episode\" is just one run of the car starting somewhere, then repeatedly choosing actions until it stops (here, it stops when reaching a maximum number of time steps)."
   ]
  },
  {
   "cell_type": "code",
   "execution_count": 4,
   "metadata": {},
   "outputs": [
    {
     "data": {
      "text/plain": [
       "[<matplotlib.lines.Line2D at 0x7facec359c18>]"
      ]
     },
     "execution_count": 4,
     "metadata": {},
     "output_type": "execute_result"
    },
    {
     "data": {
      "image/png": "[encoded data removed]",
      "text/plain": [
       "<Figure size 792x576 with 1 Axes>"
      ]
     },
     "metadata": {
      "needs_background": "light"
     },
     "output_type": "display_data"
    }
   ],
   "source": [
    "plot_episode(env, greedy_policy)"
   ]
  },
  {
   "cell_type": "markdown",
   "metadata": {},
   "source": [
    "### What Went Wrong with Maximizing the Single-Step Reward?"
   ]
  },
  {
   "cell_type": "markdown",
   "metadata": {},
   "source": [
    "## Better: Q-values\n",
    "### Look further into the future to decide the best action to take right now."
   ]
  }
 ],
 "metadata": {
  "kernelspec": {
   "display_name": "Python 3",
   "language": "python",
   "name": "python3"
  },
  "language_info": {
   "codemirror_mode": {
    "name": "ipython",
    "version": 3
   },
   "file_extension": ".py",
   "mimetype": "text/x-python",
   "name": "python",
   "nbconvert_exporter": "python",
   "pygments_lexer": "ipython3",
   "version": "3.7.0a4"
  }
 },
 "nbformat": 4,
 "nbformat_minor": 2
}
