{
 "cells": [
  {
   "cell_type": "code",
   "execution_count": 26,
   "metadata": {},
   "outputs": [
    {
     "ename": "ImportError",
     "evalue": "Something is wrong with the numpy installation. While importing we detected an older version of numpy in ['/home/robbizorg/anaconda3/envs/ai/lib/python3.6/site-packages/numpy']. One method of fixing this is to repeatedly uninstall numpy until none is found, then reinstall this version.",
     "output_type": "error",
     "traceback": [
      "\u001b[0;31m---------------------------------------------------------------------------\u001b[0m",
      "\u001b[0;31mImportError\u001b[0m                               Traceback (most recent call last)",
      "\u001b[0;32m<ipython-input-26-660d0dce6fe9>\u001b[0m in \u001b[0;36m<module>\u001b[0;34m\u001b[0m\n\u001b[1;32m      4\u001b[0m \u001b[0;32mfrom\u001b[0m \u001b[0mipywidgets\u001b[0m \u001b[0;32mimport\u001b[0m \u001b[0minteract\u001b[0m\u001b[0;34m,\u001b[0m \u001b[0minteractive\u001b[0m\u001b[0;34m,\u001b[0m \u001b[0mfixed\u001b[0m\u001b[0;34m,\u001b[0m \u001b[0minteract_manual\u001b[0m\u001b[0;34m\u001b[0m\u001b[0;34m\u001b[0m\u001b[0m\n\u001b[1;32m      5\u001b[0m \u001b[0;32mimport\u001b[0m \u001b[0mipywidgets\u001b[0m \u001b[0;32mas\u001b[0m \u001b[0mwidgets\u001b[0m\u001b[0;34m\u001b[0m\u001b[0;34m\u001b[0m\u001b[0m\n\u001b[0;32m----> 6\u001b[0;31m \u001b[0;32mimport\u001b[0m \u001b[0mnumpy\u001b[0m \u001b[0;32mas\u001b[0m \u001b[0mnp\u001b[0m\u001b[0;34m\u001b[0m\u001b[0;34m\u001b[0m\u001b[0m\n\u001b[0m",
      "\u001b[0;32m~/anaconda3/envs/ai/lib/python3.6/site-packages/numpy/__init__.py\u001b[0m in \u001b[0;36m<module>\u001b[0;34m\u001b[0m\n\u001b[1;32m    140\u001b[0m     \u001b[0;32mfrom\u001b[0m \u001b[0;34m.\u001b[0m \u001b[0;32mimport\u001b[0m \u001b[0m_distributor_init\u001b[0m\u001b[0;34m\u001b[0m\u001b[0;34m\u001b[0m\u001b[0m\n\u001b[1;32m    141\u001b[0m \u001b[0;34m\u001b[0m\u001b[0m\n\u001b[0;32m--> 142\u001b[0;31m     \u001b[0;32mfrom\u001b[0m \u001b[0;34m.\u001b[0m \u001b[0;32mimport\u001b[0m \u001b[0mcore\u001b[0m\u001b[0;34m\u001b[0m\u001b[0;34m\u001b[0m\u001b[0m\n\u001b[0m\u001b[1;32m    143\u001b[0m     \u001b[0;32mfrom\u001b[0m \u001b[0;34m.\u001b[0m\u001b[0mcore\u001b[0m \u001b[0;32mimport\u001b[0m \u001b[0;34m*\u001b[0m\u001b[0;34m\u001b[0m\u001b[0;34m\u001b[0m\u001b[0m\n\u001b[1;32m    144\u001b[0m     \u001b[0;32mfrom\u001b[0m \u001b[0;34m.\u001b[0m \u001b[0;32mimport\u001b[0m \u001b[0mcompat\u001b[0m\u001b[0;34m\u001b[0m\u001b[0;34m\u001b[0m\u001b[0m\n",
      "\u001b[0;32m~/anaconda3/envs/ai/lib/python3.6/site-packages/numpy/core/__init__.py\u001b[0m in \u001b[0;36m<module>\u001b[0;34m\u001b[0m\n\u001b[1;32m     89\u001b[0m         \u001b[0;34m\"numpy in {}. One method of fixing this is to repeatedly uninstall \"\u001b[0m\u001b[0;34m\u001b[0m\u001b[0;34m\u001b[0m\u001b[0m\n\u001b[1;32m     90\u001b[0m         \"numpy until none is found, then reinstall this version.\")\n\u001b[0;32m---> 91\u001b[0;31m     \u001b[0;32mraise\u001b[0m \u001b[0mImportError\u001b[0m\u001b[0;34m(\u001b[0m\u001b[0mmsg\u001b[0m\u001b[0;34m.\u001b[0m\u001b[0mformat\u001b[0m\u001b[0;34m(\u001b[0m\u001b[0mpath\u001b[0m\u001b[0;34m)\u001b[0m\u001b[0;34m)\u001b[0m\u001b[0;34m\u001b[0m\u001b[0;34m\u001b[0m\u001b[0m\n\u001b[0m\u001b[1;32m     92\u001b[0m \u001b[0;34m\u001b[0m\u001b[0m\n\u001b[1;32m     93\u001b[0m \u001b[0;32mfrom\u001b[0m \u001b[0;34m.\u001b[0m \u001b[0;32mimport\u001b[0m \u001b[0mnumerictypes\u001b[0m \u001b[0;32mas\u001b[0m \u001b[0mnt\u001b[0m\u001b[0;34m\u001b[0m\u001b[0;34m\u001b[0m\u001b[0m\n",
      "\u001b[0;31mImportError\u001b[0m: Something is wrong with the numpy installation. While importing we detected an older version of numpy in ['/home/robbizorg/anaconda3/envs/ai/lib/python3.6/site-packages/numpy']. One method of fixing this is to repeatedly uninstall numpy until none is found, then reinstall this version."
     ]
    }
   ],
   "source": [
    "import cairo\n",
    "import math\n",
    "from io import BytesIO\n",
    "from ipywidgets import interact, interactive, fixed, interact_manual\n",
    "import ipywidgets as widgets\n",
    "import numpy as np "
   ]
  },
  {
   "cell_type": "code",
   "execution_count": null,
   "metadata": {},
   "outputs": [],
   "source": []
  },
  {
   "cell_type": "code",
   "execution_count": 199,
   "metadata": {},
   "outputs": [
    {
     "ename": "ExpatError",
     "evalue": "junk after document element: line 9, column 0",
     "output_type": "error",
     "traceback": [
      "\u001b[0;31m---------------------------------------------------------------------------\u001b[0m",
      "\u001b[0;31mExpatError\u001b[0m                                Traceback (most recent call last)",
      "\u001b[0;32m<ipython-input-199-4acb83403b52>\u001b[0m in \u001b[0;36m<module>\u001b[0;34m\u001b[0m\n\u001b[1;32m     47\u001b[0m     \u001b[0mcontext\u001b[0m\u001b[0;34m.\u001b[0m\u001b[0mstroke\u001b[0m\u001b[0;34m(\u001b[0m\u001b[0;34m)\u001b[0m\u001b[0;34m\u001b[0m\u001b[0;34m\u001b[0m\u001b[0m\n\u001b[1;32m     48\u001b[0m \u001b[0;34m\u001b[0m\u001b[0m\n\u001b[0;32m---> 49\u001b[0;31m \u001b[0mIPython\u001b[0m\u001b[0;34m.\u001b[0m\u001b[0mdisplay\u001b[0m\u001b[0;34m.\u001b[0m\u001b[0mSVG\u001b[0m\u001b[0;34m(\u001b[0m\u001b[0mdata\u001b[0m\u001b[0;34m=\u001b[0m\u001b[0msvgio\u001b[0m\u001b[0;34m.\u001b[0m\u001b[0mgetvalue\u001b[0m\u001b[0;34m(\u001b[0m\u001b[0;34m)\u001b[0m\u001b[0;34m)\u001b[0m\u001b[0;34m\u001b[0m\u001b[0;34m\u001b[0m\u001b[0m\n\u001b[0m",
      "\u001b[0;32m~/anaconda3/envs/ai/lib/python3.6/site-packages/IPython/core/display.py\u001b[0m in \u001b[0;36m__init__\u001b[0;34m(self, data, url, filename, metadata)\u001b[0m\n\u001b[1;32m    609\u001b[0m                 \u001b[0mdata\u001b[0m \u001b[0;34m=\u001b[0m \u001b[0;32mNone\u001b[0m\u001b[0;34m\u001b[0m\u001b[0;34m\u001b[0m\u001b[0m\n\u001b[1;32m    610\u001b[0m \u001b[0;34m\u001b[0m\u001b[0m\n\u001b[0;32m--> 611\u001b[0;31m         \u001b[0mself\u001b[0m\u001b[0;34m.\u001b[0m\u001b[0mdata\u001b[0m \u001b[0;34m=\u001b[0m \u001b[0mdata\u001b[0m\u001b[0;34m\u001b[0m\u001b[0;34m\u001b[0m\u001b[0m\n\u001b[0m\u001b[1;32m    612\u001b[0m         \u001b[0mself\u001b[0m\u001b[0;34m.\u001b[0m\u001b[0murl\u001b[0m \u001b[0;34m=\u001b[0m \u001b[0murl\u001b[0m\u001b[0;34m\u001b[0m\u001b[0;34m\u001b[0m\u001b[0m\n\u001b[1;32m    613\u001b[0m         \u001b[0mself\u001b[0m\u001b[0;34m.\u001b[0m\u001b[0mfilename\u001b[0m \u001b[0;34m=\u001b[0m \u001b[0mfilename\u001b[0m\u001b[0;34m\u001b[0m\u001b[0;34m\u001b[0m\u001b[0m\n",
      "\u001b[0;32m~/anaconda3/envs/ai/lib/python3.6/site-packages/IPython/core/display.py\u001b[0m in \u001b[0;36mdata\u001b[0;34m(self, svg)\u001b[0m\n\u001b[1;32m    747\u001b[0m         \u001b[0;31m# parse into dom object\u001b[0m\u001b[0;34m\u001b[0m\u001b[0;34m\u001b[0m\u001b[0;34m\u001b[0m\u001b[0m\n\u001b[1;32m    748\u001b[0m         \u001b[0;32mfrom\u001b[0m \u001b[0mxml\u001b[0m\u001b[0;34m.\u001b[0m\u001b[0mdom\u001b[0m \u001b[0;32mimport\u001b[0m \u001b[0mminidom\u001b[0m\u001b[0;34m\u001b[0m\u001b[0;34m\u001b[0m\u001b[0m\n\u001b[0;32m--> 749\u001b[0;31m         \u001b[0mx\u001b[0m \u001b[0;34m=\u001b[0m \u001b[0mminidom\u001b[0m\u001b[0;34m.\u001b[0m\u001b[0mparseString\u001b[0m\u001b[0;34m(\u001b[0m\u001b[0msvg\u001b[0m\u001b[0;34m)\u001b[0m\u001b[0;34m\u001b[0m\u001b[0;34m\u001b[0m\u001b[0m\n\u001b[0m\u001b[1;32m    750\u001b[0m         \u001b[0;31m# get svg tag (should be 1)\u001b[0m\u001b[0;34m\u001b[0m\u001b[0;34m\u001b[0m\u001b[0;34m\u001b[0m\u001b[0m\n\u001b[1;32m    751\u001b[0m         \u001b[0mfound_svg\u001b[0m \u001b[0;34m=\u001b[0m \u001b[0mx\u001b[0m\u001b[0;34m.\u001b[0m\u001b[0mgetElementsByTagName\u001b[0m\u001b[0;34m(\u001b[0m\u001b[0;34m'svg'\u001b[0m\u001b[0;34m)\u001b[0m\u001b[0;34m\u001b[0m\u001b[0;34m\u001b[0m\u001b[0m\n",
      "\u001b[0;32m~/anaconda3/envs/ai/lib/python3.6/xml/dom/minidom.py\u001b[0m in \u001b[0;36mparseString\u001b[0;34m(string, parser)\u001b[0m\n\u001b[1;32m   1966\u001b[0m     \u001b[0;32mif\u001b[0m \u001b[0mparser\u001b[0m \u001b[0;32mis\u001b[0m \u001b[0;32mNone\u001b[0m\u001b[0;34m:\u001b[0m\u001b[0;34m\u001b[0m\u001b[0;34m\u001b[0m\u001b[0m\n\u001b[1;32m   1967\u001b[0m         \u001b[0;32mfrom\u001b[0m \u001b[0mxml\u001b[0m\u001b[0;34m.\u001b[0m\u001b[0mdom\u001b[0m \u001b[0;32mimport\u001b[0m \u001b[0mexpatbuilder\u001b[0m\u001b[0;34m\u001b[0m\u001b[0;34m\u001b[0m\u001b[0m\n\u001b[0;32m-> 1968\u001b[0;31m         \u001b[0;32mreturn\u001b[0m \u001b[0mexpatbuilder\u001b[0m\u001b[0;34m.\u001b[0m\u001b[0mparseString\u001b[0m\u001b[0;34m(\u001b[0m\u001b[0mstring\u001b[0m\u001b[0;34m)\u001b[0m\u001b[0;34m\u001b[0m\u001b[0;34m\u001b[0m\u001b[0m\n\u001b[0m\u001b[1;32m   1969\u001b[0m     \u001b[0;32melse\u001b[0m\u001b[0;34m:\u001b[0m\u001b[0;34m\u001b[0m\u001b[0;34m\u001b[0m\u001b[0m\n\u001b[1;32m   1970\u001b[0m         \u001b[0;32mfrom\u001b[0m \u001b[0mxml\u001b[0m\u001b[0;34m.\u001b[0m\u001b[0mdom\u001b[0m \u001b[0;32mimport\u001b[0m \u001b[0mpulldom\u001b[0m\u001b[0;34m\u001b[0m\u001b[0;34m\u001b[0m\u001b[0m\n",
      "\u001b[0;32m~/anaconda3/envs/ai/lib/python3.6/xml/dom/expatbuilder.py\u001b[0m in \u001b[0;36mparseString\u001b[0;34m(string, namespaces)\u001b[0m\n\u001b[1;32m    923\u001b[0m     \u001b[0;32melse\u001b[0m\u001b[0;34m:\u001b[0m\u001b[0;34m\u001b[0m\u001b[0;34m\u001b[0m\u001b[0m\n\u001b[1;32m    924\u001b[0m         \u001b[0mbuilder\u001b[0m \u001b[0;34m=\u001b[0m \u001b[0mExpatBuilder\u001b[0m\u001b[0;34m(\u001b[0m\u001b[0;34m)\u001b[0m\u001b[0;34m\u001b[0m\u001b[0;34m\u001b[0m\u001b[0m\n\u001b[0;32m--> 925\u001b[0;31m     \u001b[0;32mreturn\u001b[0m \u001b[0mbuilder\u001b[0m\u001b[0;34m.\u001b[0m\u001b[0mparseString\u001b[0m\u001b[0;34m(\u001b[0m\u001b[0mstring\u001b[0m\u001b[0;34m)\u001b[0m\u001b[0;34m\u001b[0m\u001b[0;34m\u001b[0m\u001b[0m\n\u001b[0m\u001b[1;32m    926\u001b[0m \u001b[0;34m\u001b[0m\u001b[0m\n\u001b[1;32m    927\u001b[0m \u001b[0;34m\u001b[0m\u001b[0m\n",
      "\u001b[0;32m~/anaconda3/envs/ai/lib/python3.6/xml/dom/expatbuilder.py\u001b[0m in \u001b[0;36mparseString\u001b[0;34m(self, string)\u001b[0m\n\u001b[1;32m    221\u001b[0m         \u001b[0mparser\u001b[0m \u001b[0;34m=\u001b[0m \u001b[0mself\u001b[0m\u001b[0;34m.\u001b[0m\u001b[0mgetParser\u001b[0m\u001b[0;34m(\u001b[0m\u001b[0;34m)\u001b[0m\u001b[0;34m\u001b[0m\u001b[0;34m\u001b[0m\u001b[0m\n\u001b[1;32m    222\u001b[0m         \u001b[0;32mtry\u001b[0m\u001b[0;34m:\u001b[0m\u001b[0;34m\u001b[0m\u001b[0;34m\u001b[0m\u001b[0m\n\u001b[0;32m--> 223\u001b[0;31m             \u001b[0mparser\u001b[0m\u001b[0;34m.\u001b[0m\u001b[0mParse\u001b[0m\u001b[0;34m(\u001b[0m\u001b[0mstring\u001b[0m\u001b[0;34m,\u001b[0m \u001b[0;32mTrue\u001b[0m\u001b[0;34m)\u001b[0m\u001b[0;34m\u001b[0m\u001b[0;34m\u001b[0m\u001b[0m\n\u001b[0m\u001b[1;32m    224\u001b[0m             \u001b[0mself\u001b[0m\u001b[0;34m.\u001b[0m\u001b[0m_setup_subset\u001b[0m\u001b[0;34m(\u001b[0m\u001b[0mstring\u001b[0m\u001b[0;34m)\u001b[0m\u001b[0;34m\u001b[0m\u001b[0;34m\u001b[0m\u001b[0m\n\u001b[1;32m    225\u001b[0m         \u001b[0;32mexcept\u001b[0m \u001b[0mParseEscape\u001b[0m\u001b[0;34m:\u001b[0m\u001b[0;34m\u001b[0m\u001b[0;34m\u001b[0m\u001b[0m\n",
      "\u001b[0;31mExpatError\u001b[0m: junk after document element: line 9, column 0"
     ]
    }
   ],
   "source": [
    "## Example Straight Road Need to convert to others\n",
    "\n",
    "import IPython.display\n",
    "\n",
    "svgio = BytesIO()\n",
    "with cairo.SVGSurface(svgio, 400, 200) as surface:\n",
    "    # These lines are copied verbatim from the\n",
    "    # pycairo page: https://pycairo.readthedocs.io\n",
    "    context = cairo.Context(surface)\n",
    "    context.scale(400, 200)\n",
    "    \n",
    "#     context.set_source_rgba(1, 0.2, 0.2, 0.6)\n",
    "#     context.set_line_width(0.02)\n",
    "#     context.move_to(x, y)\n",
    "#     context.line_to(x1, y1)\n",
    "#     context.move_to(x2, y2)\n",
    "#     context.line_to(x3, y3)\n",
    "#     context.stroke()\n",
    "    context.set_source_rgb(0.6, 0.6, 0.6)\n",
    "    context.rectangle(0, 0, 1, 1)  \n",
    "    context.fill()\n",
    "    # end of pycairo copy\n",
    "    \n",
    "    context.set_source_rgb(0, 0, 0)\n",
    "    x, y, x1, y1 = 0, 0.5, 1, 0.5 # Cairo does x,y from top left\n",
    "    x2, y2, x3, y3 = 0.6, 0.1, 0.9, 0.5\n",
    "    \n",
    "    context.set_line_width(0.1)\n",
    "    context.move_to(x, y)\n",
    "    context.line_to(x1, y1) \n",
    "    context.stroke() \n",
    "    \n",
    "    context.move_to(0.0, 0.3)\n",
    "    context.line_to(1, 0.3)\n",
    "\n",
    "    context.stroke()\n",
    "    \n",
    "with cairo.SVGSurface(svgio, 400, 200) as surface:\n",
    "    # These lines are copied verbatim from the\n",
    "    # pycairo page: https://pycairo.readthedocs.io\n",
    "    context = cairo.Context(surface)\n",
    "    context.scale(400, 200)\n",
    "    \n",
    "    context.move_to(0.0, 0.7)\n",
    "    context.line_to(1, 0.3)\n",
    "\n",
    "    context.stroke()\n",
    "    \n",
    "IPython.display.SVG(data=svgio.getvalue())"
   ]
  },
  {
   "cell_type": "code",
   "execution_count": 220,
   "metadata": {},
   "outputs": [
    {
     "data": {
      "image/svg+xml": [
       "<svg height=\"200pt\" version=\"1.1\" viewBox=\"0 0 200 200\" width=\"200pt\" xmlns=\"http://www.w3.org/2000/svg\" xmlns:xlink=\"http://www.w3.org/1999/xlink\">\n",
       "<g id=\"surface574\">\n",
       "<rect height=\"200\" style=\"fill:rgb(60%,60%,60%);fill-opacity:1;stroke:none;\" width=\"200\" x=\"0\" y=\"0\"/>\n",
       "<path d=\"M 0.5 0 C 0.5 0.25 0.75 0.5 1 0.5 \" style=\"fill:none;stroke-width:0.2;stroke-linecap:butt;stroke-linejoin:miter;stroke:rgb(0%,0%,0%);stroke-opacity:1;stroke-miterlimit:10;\" transform=\"matrix(200,0,0,200,0,0)\"/>\n",
       "</g>\n",
       "</svg>"
      ],
      "text/plain": [
       "<IPython.core.display.SVG object>"
      ]
     },
     "execution_count": 220,
     "metadata": {},
     "output_type": "execute_result"
    }
   ],
   "source": [
    "## Example Curved Road\n",
    "svgio = BytesIO()\n",
    "with cairo.SVGSurface(svgio, 200, 200) as surface:\n",
    "    context = cairo.Context(surface)\n",
    "    context.scale(200, 200)\n",
    "    \n",
    "    context.set_source_rgb(0.6, 0.6, 0.6)\n",
    "    context.rectangle(0, 0, 1, 1)  \n",
    "    context.fill()\n",
    "   \n",
    "    \n",
    "    context.set_source_rgb(0, 0, 0)\n",
    "    x, y, x1, y1 = 0.5, 0, 0.5, 0.25 # Cairo does x,y from top left\n",
    "    x2, y2, x3, y3 = 0.75, 0.5, 1, 0.5\n",
    "    \n",
    "    context.set_line_width(0.2)\n",
    "    context.move_to(x, y)\n",
    "    context.curve_to(x1, y1,x2,y2,x3,y3) \n",
    "\n",
    "    context.stroke()\n",
    "    \n",
    "IPython.display.SVG(data=svgio.getvalue())"
   ]
  },
  {
   "cell_type": "code",
   "execution_count": 223,
   "metadata": {},
   "outputs": [
    {
     "data": {
      "image/svg+xml": [
       "<svg height=\"200pt\" version=\"1.1\" viewBox=\"0 0 200 200\" width=\"200pt\" xmlns=\"http://www.w3.org/2000/svg\" xmlns:xlink=\"http://www.w3.org/1999/xlink\">\n",
       "<g id=\"surface583\">\n",
       "<rect height=\"200\" style=\"fill:rgb(60%,60%,60%);fill-opacity:1;stroke:none;\" width=\"200\" x=\"0\" y=\"0\"/>\n",
       "<path d=\"M 0.25 0.5 C 0.25 0.361934 0.361934 0.25 0.5 0.25 C 0.638066 0.25 0.75 0.361934 0.75 0.5 \" style=\"fill:none;stroke-width:0.1;stroke-linecap:butt;stroke-linejoin:miter;stroke:rgb(0%,0%,0%);stroke-opacity:1;stroke-miterlimit:10;\" transform=\"matrix(200,0,0,200,0,0)\"/>\n",
       "</g>\n",
       "</svg>"
      ],
      "text/plain": [
       "<IPython.core.display.SVG object>"
      ]
     },
     "execution_count": 223,
     "metadata": {},
     "output_type": "execute_result"
    }
   ],
   "source": [
    "svgio = BytesIO()\n",
    "surface = cairo.SVGSurface(svgio, 200, 200) \n",
    "    \n",
    "context = cairo.Context(surface)\n",
    "context.scale(200, 200)\n",
    "\n",
    "context.set_source_rgb(0.6, 0.6, 0.6)\n",
    "context.rectangle(0, 0, 1, 1)  \n",
    "context.fill()\n",
    "\n",
    "\n",
    "context.set_source_rgb(0, 0, 0)\n",
    "x, y = 1, 0.5\n",
    "\n",
    "context.set_line_width(0.1)\n",
    "context.arc(0.5, 0.5, 0.25, math.pi, 2*math.pi)\n",
    "context.stroke()\n",
    "surface.finish() ## Call this to do what we need\n",
    "IPython.display.SVG(data=svgio.getvalue())"
   ]
  },
  {
   "cell_type": "code",
   "execution_count": 338,
   "metadata": {},
   "outputs": [],
   "source": [
    "# Code to Build the map\n",
    "def wrapper(arr):\n",
    "    svgio = BytesIO()\n",
    "    surface = cairo.SVGSurface(svgio, 200*len(arr[0]), 200*len(arr))\n",
    "    context = cairo.Context(surface)\n",
    "    context.scale(200*len(arr[0]), 200*len(arr))\n",
    "    \n",
    "    # Build the Map\n",
    "    build_map(arr, context)\n",
    "\n",
    "    theta = 0\n",
    "    unit = 1/len(arr)\n",
    "#     ctx2 = cairo.Context(surface)\n",
    "#     ctx2.scale(200)\n",
    "    put_car(0.5,0.5,theta,1/len(arr),context)\n",
    "    \n",
    "    surface.write_to_png('track.png')\n",
    "    surface.finish()\n",
    "    \n",
    "    return IPython.display.SVG(data=svgio.getvalue())\n",
    "\n",
    "def build_map(arr, context):\n",
    "    for i in range(0, len(arr)):\n",
    "        for j in range(0, len(arr[0])):\n",
    "            cell = arr[i][j]\n",
    "            context.set_line_width(0.1*(1/len(arr)))\n",
    "            lx = j/len(arr[0])\n",
    "            ly = i/len(arr)\n",
    "            if cell == \"s\":\n",
    "                \n",
    "                context.move_to(lx,  ly + 0.5/len(arr))\n",
    "                context.line_to(lx + 1/len(arr[0]), ly + 0.5/len(arr))\n",
    "\n",
    "                context.stroke()\n",
    "\n",
    "            if cell == \"sd\":\n",
    "                print(lx + 0.5/len(arr[0]),  ly)\n",
    "                print(lx + 0.5/len(arr[0]), ly + 1/len(arr))\n",
    "                context.move_to(lx + 0.5/len(arr[0]),  ly)\n",
    "                context.line_to(lx + 0.5/len(arr[0]), ly + 1/len(arr))\n",
    "\n",
    "                context.stroke()\n",
    "\n",
    "            if cell == \"cdr\":\n",
    "                context.arc(lx + 1/len(arr[0]), \n",
    "                           ly + 1/len(arr), 0.5/len(arr),\n",
    "                           math.pi, 3*math.pi/2)\n",
    "\n",
    "                context.stroke()\n",
    "\n",
    "            if cell == \"cur\":\n",
    "                context.arc(lx + 1/len(arr[0]), \n",
    "                           ly, 0.5/len(arr),\n",
    "                           math.pi/2, math.pi)\n",
    "\n",
    "                context.stroke()\n",
    "\n",
    "            if cell == \"cul\":\n",
    "                context.arc(lx, \n",
    "                           ly, 0.5/len(arr),\n",
    "                           0, math.pi/2)\n",
    "\n",
    "                context.stroke()\n",
    "\n",
    "            if cell == \"cdl\":\n",
    "                context.arc(lx, \n",
    "                           ly + 1/len(arr), 0.5/len(arr),\n",
    "                           3*math.pi/2, 0)\n",
    "\n",
    "                context.stroke()    \n",
    "    return \n",
    "\n",
    "\n",
    "# Puts the car down on the map\n",
    "# NEED TO FIGURE OUT HOW TO SCALE THIS RECTANGLE\n",
    "def put_car(x,y,theta,unit,context):\n",
    "#     context.rotate(0.5)\n",
    "   \n",
    "    \n",
    "    \n",
    "    pat = cairo.LinearGradient(0.0, 0.0, 0.0, 1.0)\n",
    "    pat.add_color_stop_rgba(1, 0.7, 0, 0, 0.95)  # First stop, 50% opacity\n",
    "    pat.add_color_stop_rgba(0, 0.9, 0.7, 0.2, 1)  # Last stop, 100% opacity\n",
    "    context.set_source(pat)\n",
    "    \n",
    "    theta=math.pi/4\n",
    "#     mtx = cairo.Matrix(math.cos(theta), -math.sin(theta),\n",
    "#                 math.sin(theta), math.cos(theta))\n",
    "\n",
    "#     context.transform(mtx)\n",
    "    context.rotate(theta)\n",
    "    context.rectangle(0.25,-0.1,unit/5,unit/9) # Totate moves the entire context, just want to change the object\n",
    "    \n",
    "    \n",
    "    context.fill()\n",
    "    \n",
    "    return\n",
    "    \n",
    "            "
   ]
  },
  {
   "cell_type": "code",
   "execution_count": 339,
   "metadata": {
    "scrolled": true
   },
   "outputs": [
    {
     "data": {
      "image/svg+xml": [
       "<svg height=\"600pt\" version=\"1.1\" viewBox=\"0 0 600 600\" width=\"600pt\" xmlns=\"http://www.w3.org/2000/svg\" xmlns:xlink=\"http://www.w3.org/1999/xlink\">\n",
       "<defs>\n",
       "<linearGradient gradientTransform=\"matrix(600,0,0,600,0,0)\" gradientUnits=\"userSpaceOnUse\" id=\"linear0\" x1=\"0\" x2=\"0\" y1=\"0\" y2=\"1\">\n",
       "<stop offset=\"0\" style=\"stop-color:rgb(90%,70%,20%);stop-opacity:1;\"/>\n",
       "<stop offset=\"1\" style=\"stop-color:rgb(70%,0%,0%);stop-opacity:0.95;\"/>\n",
       "</linearGradient>\n",
       "</defs>\n",
       "<g id=\"surface867\">\n",
       "<path d=\"M 0.166667 0.333333 C 0.166667 0.241289 0.241289 0.166667 0.333333 0.166667 \" style=\"fill:none;stroke-width:0.0333333;stroke-linecap:butt;stroke-linejoin:miter;stroke:rgb(0%,0%,0%);stroke-opacity:1;stroke-miterlimit:10;\" transform=\"matrix(600,0,0,600,0,0)\"/>\n",
       "<path d=\"M 0.333333 0.166667 L 0.666667 0.166667 \" style=\"fill:none;stroke-width:0.0333333;stroke-linecap:butt;stroke-linejoin:miter;stroke:rgb(0%,0%,0%);stroke-opacity:1;stroke-miterlimit:10;\" transform=\"matrix(600,0,0,600,0,0)\"/>\n",
       "<path d=\"M 0.666667 0.166667 C 0.758711 0.166667 0.833333 0.241289 0.833333 0.333333 \" style=\"fill:none;stroke-width:0.0333333;stroke-linecap:butt;stroke-linejoin:miter;stroke:rgb(0%,0%,0%);stroke-opacity:1;stroke-miterlimit:10;\" transform=\"matrix(600,0,0,600,0,0)\"/>\n",
       "<path d=\"M 0.333333 0.5 C 0.241289 0.5 0.166667 0.425378 0.166667 0.333333 \" style=\"fill:none;stroke-width:0.0333333;stroke-linecap:butt;stroke-linejoin:miter;stroke:rgb(0%,0%,0%);stroke-opacity:1;stroke-miterlimit:10;\" transform=\"matrix(600,0,0,600,0,0)\"/>\n",
       "<path d=\"M 0.333333 0.5 L 0.666667 0.5 \" style=\"fill:none;stroke-width:0.0333333;stroke-linecap:butt;stroke-linejoin:miter;stroke:rgb(0%,0%,0%);stroke-opacity:1;stroke-miterlimit:10;\" transform=\"matrix(600,0,0,600,0,0)\"/>\n",
       "<path d=\"M 0.833333 0.333333 C 0.833333 0.425378 0.758711 0.5 0.666667 0.5 \" style=\"fill:none;stroke-width:0.0333333;stroke-linecap:butt;stroke-linejoin:miter;stroke:rgb(0%,0%,0%);stroke-opacity:1;stroke-miterlimit:10;\" transform=\"matrix(600,0,0,600,0,0)\"/>\n",
       "<path d=\"M 148.492188 63.640625 L 176.777344 91.925781 L 161.0625 107.640625 L 132.777344 79.355469 Z M 148.492188 63.640625 \" style=\" stroke:none;fill-rule:nonzero;fill:url(#linear0);\"/>\n",
       "</g>\n",
       "</svg>"
      ],
      "text/plain": [
       "<IPython.core.display.SVG object>"
      ]
     },
     "execution_count": 339,
     "metadata": {},
     "output_type": "execute_result"
    }
   ],
   "source": [
    "# This is a test track\n",
    "arr = [[\"cdr\",\"s\",\"cdl\"],\n",
    "       [\"cur\", \"s\", \"cul\"],\n",
    "      [\"\", \"\", \"\"]]\n",
    "# arr = [[\"cdr\",\"cdl\"],\n",
    "#        [\"sd\",\"sd\"],\n",
    "#        [\"cur\", \"cul\"]]\n",
    "wrapper(arr)"
   ]
  },
  {
   "cell_type": "code",
   "execution_count": null,
   "metadata": {},
   "outputs": [],
   "source": [
    "## Let's Make a Car\n"
   ]
  }
 ],
 "metadata": {
  "kernelspec": {
   "display_name": "Python 3",
   "language": "python",
   "name": "python3"
  },
  "language_info": {
   "codemirror_mode": {
    "name": "ipython",
    "version": 3
   },
   "file_extension": ".py",
   "mimetype": "text/x-python",
   "name": "python",
   "nbconvert_exporter": "python",
   "pygments_lexer": "ipython3",
   "version": "3.6.7"
  }
 },
 "nbformat": 4,
 "nbformat_minor": 2
}
