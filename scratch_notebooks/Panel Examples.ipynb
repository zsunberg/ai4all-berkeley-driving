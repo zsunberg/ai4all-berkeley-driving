{
 "cells": [
  {
   "cell_type": "code",
   "execution_count": 1,
   "metadata": {},
   "outputs": [],
   "source": [
    "import cairo\n",
    "import math\n",
    "from io import BytesIO\n",
    "from ipywidgets import interact, interactive, fixed, interact_manual\n",
    "import ipywidgets as widgets\n",
    "import numpy as np "
   ]
  },
  {
   "cell_type": "code",
   "execution_count": 30,
   "metadata": {},
   "outputs": [],
   "source": [
    "# Code to Build the map\n",
    "def wrapper(arr, theta=0):\n",
    "    svgio = BytesIO()\n",
    "    surface = cairo.SVGSurface(svgio, 200*len(arr[0]), 200*len(arr))\n",
    "    context = cairo.Context(surface)\n",
    "    context.scale(200*len(arr[0]), 200*len(arr))\n",
    "    \n",
    "    # Build the Map\n",
    "    build_map(arr, context)\n",
    "\n",
    "    # theta = 0\n",
    "    unit = 1/len(arr)\n",
    "#     ctx2 = cairo.Context(surface)\n",
    "#     ctx2.scale(200)\n",
    "    put_car(0.5,0.5,theta,1/len(arr),context)\n",
    "    \n",
    "    surface.write_to_png('track.png')\n",
    "    surface.finish()\n",
    "    \n",
    "    # return IPython.display.SVG(data=svgio.getvalue())\n",
    "    svg = IPython.display.SVG(data=svgio.getvalue())\n",
    "    IPython.display.display(svg)\n",
    "    return None\n",
    "\n",
    "def build_map(arr, context):\n",
    "    for i in range(0, len(arr)):\n",
    "        for j in range(0, len(arr[0])):\n",
    "            cell = arr[i][j]\n",
    "            context.set_line_width(0.1*(1/len(arr)))\n",
    "            lx = j/len(arr[0])\n",
    "            ly = i/len(arr)\n",
    "            if cell == \"s\":\n",
    "                \n",
    "                context.move_to(lx,  ly + 0.5/len(arr))\n",
    "                context.line_to(lx + 1/len(arr[0]), ly + 0.5/len(arr))\n",
    "\n",
    "                context.stroke()\n",
    "\n",
    "            if cell == \"sd\":\n",
    "                print(lx + 0.5/len(arr[0]),  ly)\n",
    "                print(lx + 0.5/len(arr[0]), ly + 1/len(arr))\n",
    "                context.move_to(lx + 0.5/len(arr[0]),  ly)\n",
    "                context.line_to(lx + 0.5/len(arr[0]), ly + 1/len(arr))\n",
    "\n",
    "                context.stroke()\n",
    "\n",
    "            if cell == \"cdr\":\n",
    "                context.arc(lx + 1/len(arr[0]), \n",
    "                           ly + 1/len(arr), 0.5/len(arr),\n",
    "                           math.pi, 3*math.pi/2)\n",
    "\n",
    "                context.stroke()\n",
    "\n",
    "            if cell == \"cur\":\n",
    "                context.arc(lx + 1/len(arr[0]), \n",
    "                           ly, 0.5/len(arr),\n",
    "                           math.pi/2, math.pi)\n",
    "\n",
    "                context.stroke()\n",
    "\n",
    "            if cell == \"cul\":\n",
    "                context.arc(lx, \n",
    "                           ly, 0.5/len(arr),\n",
    "                           0, math.pi/2)\n",
    "\n",
    "                context.stroke()\n",
    "\n",
    "            if cell == \"cdl\":\n",
    "                context.arc(lx, \n",
    "                           ly + 1/len(arr), 0.5/len(arr),\n",
    "                           3*math.pi/2, 0)\n",
    "\n",
    "                context.stroke()    \n",
    "    return \n",
    "\n",
    "\n",
    "# Puts the car down on the map\n",
    "# NEED TO FIGURE OUT HOW TO SCALE THIS RECTANGLE\n",
    "def put_car(x,y,theta,unit,context):\n",
    "#     context.rotate(0.5)\n",
    "   \n",
    "    \n",
    "    \n",
    "    pat = cairo.LinearGradient(0.0, 0.0, 0.0, 1.0)\n",
    "    pat.add_color_stop_rgba(1, 0.7, 0, 0, 0.95)  # First stop, 50% opacity\n",
    "    pat.add_color_stop_rgba(0, 0.9, 0.7, 0.2, 1)  # Last stop, 100% opacity\n",
    "    context.set_source(pat)\n",
    "    \n",
    "    # theta=math.pi/4\n",
    "#     mtx = cairo.Matrix(math.cos(theta), -math.sin(theta),\n",
    "#                 math.sin(theta), math.cos(theta))\n",
    "\n",
    "#     context.transform(mtx)\n",
    "    context.rotate(theta)\n",
    "    context.rectangle(0.25,-0.1,unit/5,unit/9) # Totate moves the entire context, just want to change the object\n",
    "    \n",
    "    \n",
    "    context.fill()\n",
    "    \n",
    "    return\n",
    "    \n",
    "            "
   ]
  },
  {
   "cell_type": "code",
   "execution_count": 31,
   "metadata": {
    "scrolled": false
   },
   "outputs": [],
   "source": [
    "def f(theta):\n",
    "    # This is a test track\n",
    "    arr = [[\"cdr\",\"s\",\"cdl\"],\n",
    "           [\"cur\", \"s\", \"cul\"],\n",
    "          [\"\", \"\", \"\"]]\n",
    "    # arr = [[\"cdr\",\"cdl\"],\n",
    "    #        [\"sd\",\"sd\"],\n",
    "    #        [\"cur\", \"cul\"]]\n",
    "    wrapper(arr, theta)"
   ]
  },
  {
   "cell_type": "code",
   "execution_count": 33,
   "metadata": {},
   "outputs": [
    {
     "data": {
      "application/vnd.jupyter.widget-view+json": {
       "model_id": "72f487707b08406a86edca45328830d6",
       "version_major": 2,
       "version_minor": 0
      },
      "text/plain": [
       "interactive(children=(FloatSlider(value=1.1, description='theta', max=1.8, min=0.4), Output()), _dom_classes=(…"
      ]
     },
     "metadata": {},
     "output_type": "display_data"
    }
   ],
   "source": [
    "interactive(f,theta=(0.4,1.8))"
   ]
  },
  {
   "cell_type": "code",
   "execution_count": 48,
   "metadata": {
    "scrolled": false
   },
   "outputs": [
    {
     "data": {
      "image/svg+xml": [
       "<svg height=\"600pt\" version=\"1.1\" viewBox=\"0 0 600 600\" width=\"600pt\" xmlns=\"http://www.w3.org/2000/svg\" xmlns:xlink=\"http://www.w3.org/1999/xlink\">\n",
       "<defs>\n",
       "<linearGradient gradientTransform=\"matrix(600,0,0,600,0,0)\" gradientUnits=\"userSpaceOnUse\" id=\"linear0\" x1=\"0\" x2=\"0\" y1=\"0\" y2=\"1\">\n",
       "<stop offset=\"0\" style=\"stop-color:rgb(90%,70%,20%);stop-opacity:1;\"/>\n",
       "<stop offset=\"1\" style=\"stop-color:rgb(70%,0%,0%);stop-opacity:0.95;\"/>\n",
       "</linearGradient>\n",
       "</defs>\n",
       "<g id=\"surface17889\">\n",
       "<path d=\"M 0.166667 0.333333 C 0.166667 0.241289 0.241289 0.166667 0.333333 0.166667 \" style=\"fill:none;stroke-width:0.0333333;stroke-linecap:butt;stroke-linejoin:miter;stroke:rgb(0%,0%,0%);stroke-opacity:1;stroke-miterlimit:10;\" transform=\"matrix(600,0,0,600,0,0)\"/>\n",
       "<path d=\"M 0.333333 0.166667 L 0.666667 0.166667 \" style=\"fill:none;stroke-width:0.0333333;stroke-linecap:butt;stroke-linejoin:miter;stroke:rgb(0%,0%,0%);stroke-opacity:1;stroke-miterlimit:10;\" transform=\"matrix(600,0,0,600,0,0)\"/>\n",
       "<path d=\"M 0.666667 0.166667 C 0.758711 0.166667 0.833333 0.241289 0.833333 0.333333 \" style=\"fill:none;stroke-width:0.0333333;stroke-linecap:butt;stroke-linejoin:miter;stroke:rgb(0%,0%,0%);stroke-opacity:1;stroke-miterlimit:10;\" transform=\"matrix(600,0,0,600,0,0)\"/>\n",
       "<path d=\"M 0.333333 0.5 C 0.241289 0.5 0.166667 0.425378 0.166667 0.333333 \" style=\"fill:none;stroke-width:0.0333333;stroke-linecap:butt;stroke-linejoin:miter;stroke:rgb(0%,0%,0%);stroke-opacity:1;stroke-miterlimit:10;\" transform=\"matrix(600,0,0,600,0,0)\"/>\n",
       "<path d=\"M 0.333333 0.5 L 0.666667 0.5 \" style=\"fill:none;stroke-width:0.0333333;stroke-linecap:butt;stroke-linejoin:miter;stroke:rgb(0%,0%,0%);stroke-opacity:1;stroke-miterlimit:10;\" transform=\"matrix(600,0,0,600,0,0)\"/>\n",
       "<path d=\"M 0.833333 0.333333 C 0.833333 0.425378 0.758711 0.5 0.666667 0.5 \" style=\"fill:none;stroke-width:0.0333333;stroke-linecap:butt;stroke-linejoin:miter;stroke:rgb(0%,0%,0%);stroke-opacity:1;stroke-miterlimit:10;\" transform=\"matrix(600,0,0,600,0,0)\"/>\n",
       "<path d=\"M 24.351562 159.710938 L 15.261719 198.664062 L -6.378906 193.613281 L 2.710938 154.660156 Z M 24.351562 159.710938 \" style=\" stroke:none;fill-rule:nonzero;fill:url(#linear0);\"/>\n",
       "</g>\n",
       "</svg>"
      ],
      "text/plain": [
       "<IPython.core.display.SVG object>"
      ]
     },
     "metadata": {},
     "output_type": "display_data"
    },
    {
     "data": {
      "text/plain": [
       "2.147716848005075"
      ]
     },
     "execution_count": 48,
     "metadata": {},
     "output_type": "execute_result"
    }
   ],
   "source": [
    "from time import sleep\n",
    "# This is a test track\n",
    "arr = [[\"cdr\",\"s\",\"cdl\"],\n",
    "       [\"cur\", \"s\", \"cul\"],\n",
    "      [\"\", \"\", \"\"]]\n",
    "# arr = [[\"cdr\",\"cdl\"],\n",
    "#        [\"sd\",\"sd\"],\n",
    "#        [\"cur\", \"cul\"]]\n",
    "\n",
    "def video():\n",
    "    for theta in np.linspace(0.4, 1.8, 100):\n",
    "        IPython.display.clear_output(wait=True)\n",
    "        wrapper(arr, theta)\n",
    "        # sleep(0.03)\n",
    "        \n",
    "import timeit\n",
    "# this takes 2.1 seconds on my machine, so 50 fps is possible?\n",
    "timeit.timeit(video, number=1)"
   ]
  },
  {
   "cell_type": "code",
   "execution_count": null,
   "metadata": {},
   "outputs": [],
   "source": []
  }
 ],
 "metadata": {
  "@webio": {
   "lastCommId": null,
   "lastKernelId": null
  },
  "kernelspec": {
   "display_name": "Python 3",
   "language": "python",
   "name": "python3"
  },
  "language_info": {
   "codemirror_mode": {
    "name": "ipython",
    "version": 3
   },
   "file_extension": ".py",
   "mimetype": "text/x-python",
   "name": "python",
   "nbconvert_exporter": "python",
   "pygments_lexer": "ipython3",
   "version": "3.7.3"
  }
 },
 "nbformat": 4,
 "nbformat_minor": 2
}
